{
 "cells": [
  {
   "cell_type": "markdown",
   "id": "cbb6c5fa",
   "metadata": {},
   "source": [
    "# <font color = 'pickle'>**Importing the required packages**"
   ]
  },
  {
   "cell_type": "code",
   "execution_count": 20,
   "id": "49c87841",
   "metadata": {
    "ExecuteTime": {
     "end_time": "2022-10-22T21:22:05.272117Z",
     "start_time": "2022-10-22T21:22:05.263169Z"
    }
   },
   "outputs": [],
   "source": [
    "# For DataFrames and manipulations\n",
    "import pandas as pd\n",
    "import numpy as np\n",
    "\n",
    "# For data Visualization\n",
    "import matplotlib.pyplot as plt\n",
    "import seaborn as sns\n",
    "import scipy.stats as stats\n",
    "%matplotlib inline\n",
    "\n",
    "# For splitting the dataset\n",
    "from sklearn.model_selection import train_test_split\n",
    "\n",
    "# drop arbitrary features\n",
    "from feature_engine.selection import DropFeatures\n",
    "\n",
    "# For categorical variables\n",
    "from feature_engine.encoding import OneHotEncoder\n",
    "from feature_engine.encoding import DecisionTreeEncoder\n",
    "\n",
    "# Missing value imputation\n",
    "from feature_engine.imputation import MeanMedianImputer\n",
    "\n",
    "# impute missingvalues with arbitrary number\n",
    "from feature_engine.imputation import ArbitraryNumberImputer\n",
    "\n",
    "# add missing indicator \n",
    "from feature_engine.imputation import AddMissingIndicator\n",
    "\n",
    "# categorical imputer\n",
    "from feature_engine.imputation import CategoricalImputer\n",
    "\n",
    "# random sample imputer\n",
    "from feature_engine.imputation import RandomSampleImputer\n",
    "\n",
    "# For scaling the data\n",
    "from sklearn.preprocessing import StandardScaler\n",
    "from sklearn.preprocessing import MinMaxScaler\n",
    "\n",
    "from feature_engine.transformation import YeoJohnsonTransformer\n",
    "from feature_engine.transformation import LogTransformer\n",
    "\n",
    "# DIscretization\n",
    "from sklearn.preprocessing import KBinsDiscretizer\n",
    "\n",
    "# Handling Outliers\n",
    "from feature_engine.outliers import Winsorizer\n",
    "\n",
    "# feature engine wrapper \n",
    "from feature_engine.wrappers import SklearnTransformerWrapper\n",
    "\n",
    "# creating pipelines \n",
    "from sklearn.pipeline import Pipeline\n",
    "from sklearn.compose import ColumnTransformer\n",
    "\n",
    "# Hyper parameter tuning\n",
    "from sklearn.model_selection import GridSearchCV\n",
    "from sklearn.model_selection import StratifiedKFold\n",
    "\n",
    "# Using KNN classification for our data\n",
    "from sklearn.neighbors import KNeighborsClassifier\n",
    "\n",
    "# draws a confusion matrix\n",
    "from sklearn.metrics import ConfusionMatrixDisplay\n",
    "\n",
    "# save and load models\n",
    "import joblib\n",
    "\n",
    "# Pathlib to navigate file system\n",
    "from pathlib import Path\n",
    "import sys"
   ]
  },
  {
   "cell_type": "code",
   "execution_count": 4,
   "id": "f6e61a6c",
   "metadata": {
    "ExecuteTime": {
     "end_time": "2022-10-22T21:10:55.914902Z",
     "start_time": "2022-10-22T21:10:55.902940Z"
    }
   },
   "outputs": [],
   "source": [
    "import custom_plot"
   ]
  },
  {
   "cell_type": "markdown",
   "id": "a11ebc6e",
   "metadata": {
    "ExecuteTime": {
     "end_time": "2022-10-22T21:20:44.029071Z",
     "start_time": "2022-10-22T21:20:44.017073Z"
    }
   },
   "source": [
    "# <font color = 'pickle'>**Import the dataset**"
   ]
  },
  {
   "cell_type": "code",
   "execution_count": 13,
   "id": "a9cb047a",
   "metadata": {
    "ExecuteTime": {
     "end_time": "2022-10-22T21:15:06.746343Z",
     "start_time": "2022-10-22T21:15:06.721023Z"
    }
   },
   "outputs": [],
   "source": [
    "df = pd.read_csv('Data/SeoulBikeData.csv', encoding='latin1')"
   ]
  },
  {
   "cell_type": "markdown",
   "id": "3756240c",
   "metadata": {},
   "source": [
    "# <font color = 'pickle'>**Exploratory data analysis**"
   ]
  },
  {
   "cell_type": "markdown",
   "id": "fcdcc5b6",
   "metadata": {},
   "source": [
    "## <font color = 'pickle'>**Check Data**"
   ]
  },
  {
   "cell_type": "markdown",
   "id": "3cd663d9",
   "metadata": {},
   "source": [
    "### <font color = 'pickle'>**Check few rows**"
   ]
  },
  {
   "cell_type": "code",
   "execution_count": 25,
   "id": "46630811",
   "metadata": {
    "ExecuteTime": {
     "end_time": "2022-10-22T21:25:16.361291Z",
     "start_time": "2022-10-22T21:25:16.342338Z"
    }
   },
   "outputs": [
    {
     "data": {
      "text/html": [
       "<div>\n",
       "<style scoped>\n",
       "    .dataframe tbody tr th:only-of-type {\n",
       "        vertical-align: middle;\n",
       "    }\n",
       "\n",
       "    .dataframe tbody tr th {\n",
       "        vertical-align: top;\n",
       "    }\n",
       "\n",
       "    .dataframe thead th {\n",
       "        text-align: right;\n",
       "    }\n",
       "</style>\n",
       "<table border=\"1\" class=\"dataframe\">\n",
       "  <thead>\n",
       "    <tr style=\"text-align: right;\">\n",
       "      <th></th>\n",
       "      <th>Date</th>\n",
       "      <th>Rented Bike Count</th>\n",
       "      <th>Hour</th>\n",
       "      <th>Temperature(°C)</th>\n",
       "      <th>Humidity(%)</th>\n",
       "      <th>Wind speed (m/s)</th>\n",
       "      <th>Visibility (10m)</th>\n",
       "      <th>Dew point temperature(°C)</th>\n",
       "      <th>Solar Radiation (MJ/m2)</th>\n",
       "      <th>Rainfall(mm)</th>\n",
       "      <th>Snowfall (cm)</th>\n",
       "      <th>Seasons</th>\n",
       "      <th>Holiday</th>\n",
       "      <th>Functioning Day</th>\n",
       "    </tr>\n",
       "  </thead>\n",
       "  <tbody>\n",
       "    <tr>\n",
       "      <th>0</th>\n",
       "      <td>01/12/2017</td>\n",
       "      <td>254</td>\n",
       "      <td>0</td>\n",
       "      <td>-5.2</td>\n",
       "      <td>37</td>\n",
       "      <td>2.2</td>\n",
       "      <td>2000</td>\n",
       "      <td>-17.6</td>\n",
       "      <td>0.0</td>\n",
       "      <td>0.0</td>\n",
       "      <td>0.0</td>\n",
       "      <td>Winter</td>\n",
       "      <td>No Holiday</td>\n",
       "      <td>Yes</td>\n",
       "    </tr>\n",
       "    <tr>\n",
       "      <th>1</th>\n",
       "      <td>01/12/2017</td>\n",
       "      <td>204</td>\n",
       "      <td>1</td>\n",
       "      <td>-5.5</td>\n",
       "      <td>38</td>\n",
       "      <td>0.8</td>\n",
       "      <td>2000</td>\n",
       "      <td>-17.6</td>\n",
       "      <td>0.0</td>\n",
       "      <td>0.0</td>\n",
       "      <td>0.0</td>\n",
       "      <td>Winter</td>\n",
       "      <td>No Holiday</td>\n",
       "      <td>Yes</td>\n",
       "    </tr>\n",
       "    <tr>\n",
       "      <th>2</th>\n",
       "      <td>01/12/2017</td>\n",
       "      <td>173</td>\n",
       "      <td>2</td>\n",
       "      <td>-6.0</td>\n",
       "      <td>39</td>\n",
       "      <td>1.0</td>\n",
       "      <td>2000</td>\n",
       "      <td>-17.7</td>\n",
       "      <td>0.0</td>\n",
       "      <td>0.0</td>\n",
       "      <td>0.0</td>\n",
       "      <td>Winter</td>\n",
       "      <td>No Holiday</td>\n",
       "      <td>Yes</td>\n",
       "    </tr>\n",
       "    <tr>\n",
       "      <th>3</th>\n",
       "      <td>01/12/2017</td>\n",
       "      <td>107</td>\n",
       "      <td>3</td>\n",
       "      <td>-6.2</td>\n",
       "      <td>40</td>\n",
       "      <td>0.9</td>\n",
       "      <td>2000</td>\n",
       "      <td>-17.6</td>\n",
       "      <td>0.0</td>\n",
       "      <td>0.0</td>\n",
       "      <td>0.0</td>\n",
       "      <td>Winter</td>\n",
       "      <td>No Holiday</td>\n",
       "      <td>Yes</td>\n",
       "    </tr>\n",
       "    <tr>\n",
       "      <th>4</th>\n",
       "      <td>01/12/2017</td>\n",
       "      <td>78</td>\n",
       "      <td>4</td>\n",
       "      <td>-6.0</td>\n",
       "      <td>36</td>\n",
       "      <td>2.3</td>\n",
       "      <td>2000</td>\n",
       "      <td>-18.6</td>\n",
       "      <td>0.0</td>\n",
       "      <td>0.0</td>\n",
       "      <td>0.0</td>\n",
       "      <td>Winter</td>\n",
       "      <td>No Holiday</td>\n",
       "      <td>Yes</td>\n",
       "    </tr>\n",
       "  </tbody>\n",
       "</table>\n",
       "</div>"
      ],
      "text/plain": [
       "         Date  Rented Bike Count  Hour  Temperature(°C)  Humidity(%)  \\\n",
       "0  01/12/2017                254     0             -5.2           37   \n",
       "1  01/12/2017                204     1             -5.5           38   \n",
       "2  01/12/2017                173     2             -6.0           39   \n",
       "3  01/12/2017                107     3             -6.2           40   \n",
       "4  01/12/2017                 78     4             -6.0           36   \n",
       "\n",
       "   Wind speed (m/s)  Visibility (10m)  Dew point temperature(°C)  \\\n",
       "0               2.2              2000                      -17.6   \n",
       "1               0.8              2000                      -17.6   \n",
       "2               1.0              2000                      -17.7   \n",
       "3               0.9              2000                      -17.6   \n",
       "4               2.3              2000                      -18.6   \n",
       "\n",
       "   Solar Radiation (MJ/m2)  Rainfall(mm)  Snowfall (cm) Seasons     Holiday  \\\n",
       "0                      0.0           0.0            0.0  Winter  No Holiday   \n",
       "1                      0.0           0.0            0.0  Winter  No Holiday   \n",
       "2                      0.0           0.0            0.0  Winter  No Holiday   \n",
       "3                      0.0           0.0            0.0  Winter  No Holiday   \n",
       "4                      0.0           0.0            0.0  Winter  No Holiday   \n",
       "\n",
       "  Functioning Day  \n",
       "0             Yes  \n",
       "1             Yes  \n",
       "2             Yes  \n",
       "3             Yes  \n",
       "4             Yes  "
      ]
     },
     "execution_count": 25,
     "metadata": {},
     "output_type": "execute_result"
    }
   ],
   "source": [
    "df.head(5)"
   ]
  },
  {
   "cell_type": "markdown",
   "id": "4c94e430",
   "metadata": {},
   "source": [
    "###  <font color = 'pickle'>**Check column names**"
   ]
  },
  {
   "cell_type": "code",
   "execution_count": 19,
   "id": "e3693c6b",
   "metadata": {
    "ExecuteTime": {
     "end_time": "2022-10-22T21:21:42.223598Z",
     "start_time": "2022-10-22T21:21:42.211629Z"
    }
   },
   "outputs": [
    {
     "data": {
      "text/plain": [
       "Index(['Date', 'Rented Bike Count', 'Hour', 'Temperature(°C)', 'Humidity(%)',\n",
       "       'Wind speed (m/s)', 'Visibility (10m)', 'Dew point temperature(°C)',\n",
       "       'Solar Radiation (MJ/m2)', 'Rainfall(mm)', 'Snowfall (cm)', 'Seasons',\n",
       "       'Holiday', 'Functioning Day'],\n",
       "      dtype='object')"
      ]
     },
     "execution_count": 19,
     "metadata": {},
     "output_type": "execute_result"
    }
   ],
   "source": [
    "# Let's check the columns of the data\n",
    "df.columns"
   ]
  },
  {
   "cell_type": "markdown",
   "id": "0304568f",
   "metadata": {},
   "source": [
    "### <font color = 'pickle'>**Check data types of columns**"
   ]
  },
  {
   "cell_type": "code",
   "execution_count": 16,
   "id": "5f94746b",
   "metadata": {
    "ExecuteTime": {
     "end_time": "2022-10-22T21:20:33.695097Z",
     "start_time": "2022-10-22T21:20:33.680499Z"
    }
   },
   "outputs": [
    {
     "name": "stdout",
     "output_type": "stream",
     "text": [
      "<class 'pandas.core.frame.DataFrame'>\n",
      "RangeIndex: 8760 entries, 0 to 8759\n",
      "Data columns (total 14 columns):\n",
      " #   Column                     Non-Null Count  Dtype  \n",
      "---  ------                     --------------  -----  \n",
      " 0   Date                       8760 non-null   object \n",
      " 1   Rented Bike Count          8760 non-null   int64  \n",
      " 2   Hour                       8760 non-null   int64  \n",
      " 3   Temperature(°C)            8760 non-null   float64\n",
      " 4   Humidity(%)                8760 non-null   int64  \n",
      " 5   Wind speed (m/s)           8760 non-null   float64\n",
      " 6   Visibility (10m)           8760 non-null   int64  \n",
      " 7   Dew point temperature(°C)  8760 non-null   float64\n",
      " 8   Solar Radiation (MJ/m2)    8760 non-null   float64\n",
      " 9   Rainfall(mm)               8760 non-null   float64\n",
      " 10  Snowfall (cm)              8760 non-null   float64\n",
      " 11  Seasons                    8760 non-null   object \n",
      " 12  Holiday                    8760 non-null   object \n",
      " 13  Functioning Day            8760 non-null   object \n",
      "dtypes: float64(6), int64(4), object(4)\n",
      "memory usage: 958.2+ KB\n"
     ]
    }
   ],
   "source": [
    "df.info()"
   ]
  },
  {
   "cell_type": "markdown",
   "id": "54f1b7dc",
   "metadata": {},
   "source": [
    "### <font color = 'pickle'>**Check for unnecessary columns**"
   ]
  },
  {
   "cell_type": "markdown",
   "id": "14a0cdf0",
   "metadata": {},
   "source": [
    "There is no unnecessary columns"
   ]
  },
  {
   "cell_type": "markdown",
   "id": "80f2e3a8",
   "metadata": {},
   "source": [
    "### <font color = 'pickle'>**Check for unique values**"
   ]
  },
  {
   "cell_type": "code",
   "execution_count": 26,
   "id": "72177767",
   "metadata": {
    "ExecuteTime": {
     "end_time": "2022-10-22T21:27:18.053963Z",
     "start_time": "2022-10-22T21:27:18.035014Z"
    }
   },
   "outputs": [
    {
     "data": {
      "text/plain": [
       "Date                          365\n",
       "Rented Bike Count            2166\n",
       "Hour                           24\n",
       "Temperature(°C)               546\n",
       "Humidity(%)                    90\n",
       "Wind speed (m/s)               65\n",
       "Visibility (10m)             1789\n",
       "Dew point temperature(°C)     556\n",
       "Solar Radiation (MJ/m2)       345\n",
       "Rainfall(mm)                   61\n",
       "Snowfall (cm)                  51\n",
       "Seasons                         4\n",
       "Holiday                         2\n",
       "Functioning Day                 2\n",
       "dtype: int64"
      ]
     },
     "execution_count": 26,
     "metadata": {},
     "output_type": "execute_result"
    }
   ],
   "source": [
    "df.nunique()"
   ]
  },
  {
   "cell_type": "markdown",
   "id": "59fadb9f",
   "metadata": {},
   "source": [
    "### <font color = 'pickle'>**Check summary statistics**"
   ]
  },
  {
   "cell_type": "code",
   "execution_count": 27,
   "id": "7649d739",
   "metadata": {
    "ExecuteTime": {
     "end_time": "2022-10-22T21:27:34.984544Z",
     "start_time": "2022-10-22T21:27:34.940661Z"
    }
   },
   "outputs": [
    {
     "data": {
      "text/html": [
       "<div>\n",
       "<style scoped>\n",
       "    .dataframe tbody tr th:only-of-type {\n",
       "        vertical-align: middle;\n",
       "    }\n",
       "\n",
       "    .dataframe tbody tr th {\n",
       "        vertical-align: top;\n",
       "    }\n",
       "\n",
       "    .dataframe thead th {\n",
       "        text-align: right;\n",
       "    }\n",
       "</style>\n",
       "<table border=\"1\" class=\"dataframe\">\n",
       "  <thead>\n",
       "    <tr style=\"text-align: right;\">\n",
       "      <th></th>\n",
       "      <th>count</th>\n",
       "      <th>mean</th>\n",
       "      <th>std</th>\n",
       "      <th>min</th>\n",
       "      <th>25%</th>\n",
       "      <th>50%</th>\n",
       "      <th>75%</th>\n",
       "      <th>max</th>\n",
       "    </tr>\n",
       "  </thead>\n",
       "  <tbody>\n",
       "    <tr>\n",
       "      <th>Rented Bike Count</th>\n",
       "      <td>8760.0</td>\n",
       "      <td>704.602055</td>\n",
       "      <td>644.997468</td>\n",
       "      <td>0.0</td>\n",
       "      <td>191.00</td>\n",
       "      <td>504.50</td>\n",
       "      <td>1065.25</td>\n",
       "      <td>3556.00</td>\n",
       "    </tr>\n",
       "    <tr>\n",
       "      <th>Hour</th>\n",
       "      <td>8760.0</td>\n",
       "      <td>11.500000</td>\n",
       "      <td>6.922582</td>\n",
       "      <td>0.0</td>\n",
       "      <td>5.75</td>\n",
       "      <td>11.50</td>\n",
       "      <td>17.25</td>\n",
       "      <td>23.00</td>\n",
       "    </tr>\n",
       "    <tr>\n",
       "      <th>Temperature(°C)</th>\n",
       "      <td>8760.0</td>\n",
       "      <td>12.882922</td>\n",
       "      <td>11.944825</td>\n",
       "      <td>-17.8</td>\n",
       "      <td>3.50</td>\n",
       "      <td>13.70</td>\n",
       "      <td>22.50</td>\n",
       "      <td>39.40</td>\n",
       "    </tr>\n",
       "    <tr>\n",
       "      <th>Humidity(%)</th>\n",
       "      <td>8760.0</td>\n",
       "      <td>58.226256</td>\n",
       "      <td>20.362413</td>\n",
       "      <td>0.0</td>\n",
       "      <td>42.00</td>\n",
       "      <td>57.00</td>\n",
       "      <td>74.00</td>\n",
       "      <td>98.00</td>\n",
       "    </tr>\n",
       "    <tr>\n",
       "      <th>Wind speed (m/s)</th>\n",
       "      <td>8760.0</td>\n",
       "      <td>1.724909</td>\n",
       "      <td>1.036300</td>\n",
       "      <td>0.0</td>\n",
       "      <td>0.90</td>\n",
       "      <td>1.50</td>\n",
       "      <td>2.30</td>\n",
       "      <td>7.40</td>\n",
       "    </tr>\n",
       "    <tr>\n",
       "      <th>Visibility (10m)</th>\n",
       "      <td>8760.0</td>\n",
       "      <td>1436.825799</td>\n",
       "      <td>608.298712</td>\n",
       "      <td>27.0</td>\n",
       "      <td>940.00</td>\n",
       "      <td>1698.00</td>\n",
       "      <td>2000.00</td>\n",
       "      <td>2000.00</td>\n",
       "    </tr>\n",
       "    <tr>\n",
       "      <th>Dew point temperature(°C)</th>\n",
       "      <td>8760.0</td>\n",
       "      <td>4.073813</td>\n",
       "      <td>13.060369</td>\n",
       "      <td>-30.6</td>\n",
       "      <td>-4.70</td>\n",
       "      <td>5.10</td>\n",
       "      <td>14.80</td>\n",
       "      <td>27.20</td>\n",
       "    </tr>\n",
       "    <tr>\n",
       "      <th>Solar Radiation (MJ/m2)</th>\n",
       "      <td>8760.0</td>\n",
       "      <td>0.569111</td>\n",
       "      <td>0.868746</td>\n",
       "      <td>0.0</td>\n",
       "      <td>0.00</td>\n",
       "      <td>0.01</td>\n",
       "      <td>0.93</td>\n",
       "      <td>3.52</td>\n",
       "    </tr>\n",
       "    <tr>\n",
       "      <th>Rainfall(mm)</th>\n",
       "      <td>8760.0</td>\n",
       "      <td>0.148687</td>\n",
       "      <td>1.128193</td>\n",
       "      <td>0.0</td>\n",
       "      <td>0.00</td>\n",
       "      <td>0.00</td>\n",
       "      <td>0.00</td>\n",
       "      <td>35.00</td>\n",
       "    </tr>\n",
       "    <tr>\n",
       "      <th>Snowfall (cm)</th>\n",
       "      <td>8760.0</td>\n",
       "      <td>0.075068</td>\n",
       "      <td>0.436746</td>\n",
       "      <td>0.0</td>\n",
       "      <td>0.00</td>\n",
       "      <td>0.00</td>\n",
       "      <td>0.00</td>\n",
       "      <td>8.80</td>\n",
       "    </tr>\n",
       "  </tbody>\n",
       "</table>\n",
       "</div>"
      ],
      "text/plain": [
       "                            count         mean         std   min     25%  \\\n",
       "Rented Bike Count          8760.0   704.602055  644.997468   0.0  191.00   \n",
       "Hour                       8760.0    11.500000    6.922582   0.0    5.75   \n",
       "Temperature(°C)            8760.0    12.882922   11.944825 -17.8    3.50   \n",
       "Humidity(%)                8760.0    58.226256   20.362413   0.0   42.00   \n",
       "Wind speed (m/s)           8760.0     1.724909    1.036300   0.0    0.90   \n",
       "Visibility (10m)           8760.0  1436.825799  608.298712  27.0  940.00   \n",
       "Dew point temperature(°C)  8760.0     4.073813   13.060369 -30.6   -4.70   \n",
       "Solar Radiation (MJ/m2)    8760.0     0.569111    0.868746   0.0    0.00   \n",
       "Rainfall(mm)               8760.0     0.148687    1.128193   0.0    0.00   \n",
       "Snowfall (cm)              8760.0     0.075068    0.436746   0.0    0.00   \n",
       "\n",
       "                               50%      75%      max  \n",
       "Rented Bike Count           504.50  1065.25  3556.00  \n",
       "Hour                         11.50    17.25    23.00  \n",
       "Temperature(°C)              13.70    22.50    39.40  \n",
       "Humidity(%)                  57.00    74.00    98.00  \n",
       "Wind speed (m/s)              1.50     2.30     7.40  \n",
       "Visibility (10m)           1698.00  2000.00  2000.00  \n",
       "Dew point temperature(°C)     5.10    14.80    27.20  \n",
       "Solar Radiation (MJ/m2)       0.01     0.93     3.52  \n",
       "Rainfall(mm)                  0.00     0.00    35.00  \n",
       "Snowfall (cm)                 0.00     0.00     8.80  "
      ]
     },
     "execution_count": 27,
     "metadata": {},
     "output_type": "execute_result"
    }
   ],
   "source": [
    "df.describe().T"
   ]
  },
  {
   "cell_type": "markdown",
   "id": "fd4023e9",
   "metadata": {},
   "source": [
    "### <font color = 'pickle'>**Check for duplicate rows**"
   ]
  },
  {
   "cell_type": "code",
   "execution_count": 28,
   "id": "8e29103b",
   "metadata": {
    "ExecuteTime": {
     "end_time": "2022-10-22T21:28:03.183573Z",
     "start_time": "2022-10-22T21:28:03.167642Z"
    }
   },
   "outputs": [
    {
     "name": "stdout",
     "output_type": "stream",
     "text": [
      "False\n",
      "Empty DataFrame\n",
      "Columns: [Date, Rented Bike Count, Hour, Temperature(°C), Humidity(%), Wind speed (m/s), Visibility (10m), Dew point temperature(°C), Solar Radiation (MJ/m2), Rainfall(mm), Snowfall (cm), Seasons, Holiday, Functioning Day]\n",
      "Index: []\n"
     ]
    }
   ],
   "source": [
    "# To check the duplicates of the data\n",
    "dups = df.duplicated()\n",
    "# report if there are any duplicates\n",
    "print(dups.any())\n",
    "# list all duplicate rows\n",
    "print(df[dups])"
   ]
  },
  {
   "cell_type": "markdown",
   "id": "70898c75",
   "metadata": {},
   "source": [
    "## <font color = 'pickle'>**Quantifying Missing Data**"
   ]
  },
  {
   "cell_type": "code",
   "execution_count": 29,
   "id": "d1f3e452",
   "metadata": {
    "ExecuteTime": {
     "end_time": "2022-10-22T21:28:23.876410Z",
     "start_time": "2022-10-22T21:28:23.851476Z"
    }
   },
   "outputs": [
    {
     "data": {
      "text/html": [
       "<div>\n",
       "<style scoped>\n",
       "    .dataframe tbody tr th:only-of-type {\n",
       "        vertical-align: middle;\n",
       "    }\n",
       "\n",
       "    .dataframe tbody tr th {\n",
       "        vertical-align: top;\n",
       "    }\n",
       "\n",
       "    .dataframe thead th {\n",
       "        text-align: right;\n",
       "    }\n",
       "</style>\n",
       "<table border=\"1\" class=\"dataframe\">\n",
       "  <thead>\n",
       "    <tr style=\"text-align: right;\">\n",
       "      <th></th>\n",
       "      <th>Date</th>\n",
       "      <th>Rented Bike Count</th>\n",
       "      <th>Hour</th>\n",
       "      <th>Temperature(°C)</th>\n",
       "      <th>Humidity(%)</th>\n",
       "      <th>Wind speed (m/s)</th>\n",
       "      <th>Visibility (10m)</th>\n",
       "      <th>Dew point temperature(°C)</th>\n",
       "      <th>Solar Radiation (MJ/m2)</th>\n",
       "      <th>Rainfall(mm)</th>\n",
       "      <th>Snowfall (cm)</th>\n",
       "      <th>Seasons</th>\n",
       "      <th>Holiday</th>\n",
       "      <th>Functioning Day</th>\n",
       "    </tr>\n",
       "  </thead>\n",
       "  <tbody>\n",
       "    <tr>\n",
       "      <th>0</th>\n",
       "      <td>False</td>\n",
       "      <td>False</td>\n",
       "      <td>False</td>\n",
       "      <td>False</td>\n",
       "      <td>False</td>\n",
       "      <td>False</td>\n",
       "      <td>False</td>\n",
       "      <td>False</td>\n",
       "      <td>False</td>\n",
       "      <td>False</td>\n",
       "      <td>False</td>\n",
       "      <td>False</td>\n",
       "      <td>False</td>\n",
       "      <td>False</td>\n",
       "    </tr>\n",
       "    <tr>\n",
       "      <th>1</th>\n",
       "      <td>False</td>\n",
       "      <td>False</td>\n",
       "      <td>False</td>\n",
       "      <td>False</td>\n",
       "      <td>False</td>\n",
       "      <td>False</td>\n",
       "      <td>False</td>\n",
       "      <td>False</td>\n",
       "      <td>False</td>\n",
       "      <td>False</td>\n",
       "      <td>False</td>\n",
       "      <td>False</td>\n",
       "      <td>False</td>\n",
       "      <td>False</td>\n",
       "    </tr>\n",
       "    <tr>\n",
       "      <th>2</th>\n",
       "      <td>False</td>\n",
       "      <td>False</td>\n",
       "      <td>False</td>\n",
       "      <td>False</td>\n",
       "      <td>False</td>\n",
       "      <td>False</td>\n",
       "      <td>False</td>\n",
       "      <td>False</td>\n",
       "      <td>False</td>\n",
       "      <td>False</td>\n",
       "      <td>False</td>\n",
       "      <td>False</td>\n",
       "      <td>False</td>\n",
       "      <td>False</td>\n",
       "    </tr>\n",
       "    <tr>\n",
       "      <th>3</th>\n",
       "      <td>False</td>\n",
       "      <td>False</td>\n",
       "      <td>False</td>\n",
       "      <td>False</td>\n",
       "      <td>False</td>\n",
       "      <td>False</td>\n",
       "      <td>False</td>\n",
       "      <td>False</td>\n",
       "      <td>False</td>\n",
       "      <td>False</td>\n",
       "      <td>False</td>\n",
       "      <td>False</td>\n",
       "      <td>False</td>\n",
       "      <td>False</td>\n",
       "    </tr>\n",
       "    <tr>\n",
       "      <th>4</th>\n",
       "      <td>False</td>\n",
       "      <td>False</td>\n",
       "      <td>False</td>\n",
       "      <td>False</td>\n",
       "      <td>False</td>\n",
       "      <td>False</td>\n",
       "      <td>False</td>\n",
       "      <td>False</td>\n",
       "      <td>False</td>\n",
       "      <td>False</td>\n",
       "      <td>False</td>\n",
       "      <td>False</td>\n",
       "      <td>False</td>\n",
       "      <td>False</td>\n",
       "    </tr>\n",
       "    <tr>\n",
       "      <th>...</th>\n",
       "      <td>...</td>\n",
       "      <td>...</td>\n",
       "      <td>...</td>\n",
       "      <td>...</td>\n",
       "      <td>...</td>\n",
       "      <td>...</td>\n",
       "      <td>...</td>\n",
       "      <td>...</td>\n",
       "      <td>...</td>\n",
       "      <td>...</td>\n",
       "      <td>...</td>\n",
       "      <td>...</td>\n",
       "      <td>...</td>\n",
       "      <td>...</td>\n",
       "    </tr>\n",
       "    <tr>\n",
       "      <th>8755</th>\n",
       "      <td>False</td>\n",
       "      <td>False</td>\n",
       "      <td>False</td>\n",
       "      <td>False</td>\n",
       "      <td>False</td>\n",
       "      <td>False</td>\n",
       "      <td>False</td>\n",
       "      <td>False</td>\n",
       "      <td>False</td>\n",
       "      <td>False</td>\n",
       "      <td>False</td>\n",
       "      <td>False</td>\n",
       "      <td>False</td>\n",
       "      <td>False</td>\n",
       "    </tr>\n",
       "    <tr>\n",
       "      <th>8756</th>\n",
       "      <td>False</td>\n",
       "      <td>False</td>\n",
       "      <td>False</td>\n",
       "      <td>False</td>\n",
       "      <td>False</td>\n",
       "      <td>False</td>\n",
       "      <td>False</td>\n",
       "      <td>False</td>\n",
       "      <td>False</td>\n",
       "      <td>False</td>\n",
       "      <td>False</td>\n",
       "      <td>False</td>\n",
       "      <td>False</td>\n",
       "      <td>False</td>\n",
       "    </tr>\n",
       "    <tr>\n",
       "      <th>8757</th>\n",
       "      <td>False</td>\n",
       "      <td>False</td>\n",
       "      <td>False</td>\n",
       "      <td>False</td>\n",
       "      <td>False</td>\n",
       "      <td>False</td>\n",
       "      <td>False</td>\n",
       "      <td>False</td>\n",
       "      <td>False</td>\n",
       "      <td>False</td>\n",
       "      <td>False</td>\n",
       "      <td>False</td>\n",
       "      <td>False</td>\n",
       "      <td>False</td>\n",
       "    </tr>\n",
       "    <tr>\n",
       "      <th>8758</th>\n",
       "      <td>False</td>\n",
       "      <td>False</td>\n",
       "      <td>False</td>\n",
       "      <td>False</td>\n",
       "      <td>False</td>\n",
       "      <td>False</td>\n",
       "      <td>False</td>\n",
       "      <td>False</td>\n",
       "      <td>False</td>\n",
       "      <td>False</td>\n",
       "      <td>False</td>\n",
       "      <td>False</td>\n",
       "      <td>False</td>\n",
       "      <td>False</td>\n",
       "    </tr>\n",
       "    <tr>\n",
       "      <th>8759</th>\n",
       "      <td>False</td>\n",
       "      <td>False</td>\n",
       "      <td>False</td>\n",
       "      <td>False</td>\n",
       "      <td>False</td>\n",
       "      <td>False</td>\n",
       "      <td>False</td>\n",
       "      <td>False</td>\n",
       "      <td>False</td>\n",
       "      <td>False</td>\n",
       "      <td>False</td>\n",
       "      <td>False</td>\n",
       "      <td>False</td>\n",
       "      <td>False</td>\n",
       "    </tr>\n",
       "  </tbody>\n",
       "</table>\n",
       "<p>8760 rows × 14 columns</p>\n",
       "</div>"
      ],
      "text/plain": [
       "       Date  Rented Bike Count   Hour  Temperature(°C)  Humidity(%)  \\\n",
       "0     False              False  False            False        False   \n",
       "1     False              False  False            False        False   \n",
       "2     False              False  False            False        False   \n",
       "3     False              False  False            False        False   \n",
       "4     False              False  False            False        False   \n",
       "...     ...                ...    ...              ...          ...   \n",
       "8755  False              False  False            False        False   \n",
       "8756  False              False  False            False        False   \n",
       "8757  False              False  False            False        False   \n",
       "8758  False              False  False            False        False   \n",
       "8759  False              False  False            False        False   \n",
       "\n",
       "      Wind speed (m/s)  Visibility (10m)  Dew point temperature(°C)  \\\n",
       "0                False             False                      False   \n",
       "1                False             False                      False   \n",
       "2                False             False                      False   \n",
       "3                False             False                      False   \n",
       "4                False             False                      False   \n",
       "...                ...               ...                        ...   \n",
       "8755             False             False                      False   \n",
       "8756             False             False                      False   \n",
       "8757             False             False                      False   \n",
       "8758             False             False                      False   \n",
       "8759             False             False                      False   \n",
       "\n",
       "      Solar Radiation (MJ/m2)  Rainfall(mm)  Snowfall (cm)  Seasons  Holiday  \\\n",
       "0                       False         False          False    False    False   \n",
       "1                       False         False          False    False    False   \n",
       "2                       False         False          False    False    False   \n",
       "3                       False         False          False    False    False   \n",
       "4                       False         False          False    False    False   \n",
       "...                       ...           ...            ...      ...      ...   \n",
       "8755                    False         False          False    False    False   \n",
       "8756                    False         False          False    False    False   \n",
       "8757                    False         False          False    False    False   \n",
       "8758                    False         False          False    False    False   \n",
       "8759                    False         False          False    False    False   \n",
       "\n",
       "      Functioning Day  \n",
       "0               False  \n",
       "1               False  \n",
       "2               False  \n",
       "3               False  \n",
       "4               False  \n",
       "...               ...  \n",
       "8755            False  \n",
       "8756            False  \n",
       "8757            False  \n",
       "8758            False  \n",
       "8759            False  \n",
       "\n",
       "[8760 rows x 14 columns]"
      ]
     },
     "execution_count": 29,
     "metadata": {},
     "output_type": "execute_result"
    }
   ],
   "source": [
    "df.isna()"
   ]
  },
  {
   "cell_type": "code",
   "execution_count": 30,
   "id": "0bfe3cfa",
   "metadata": {
    "ExecuteTime": {
     "end_time": "2022-10-22T21:28:29.410206Z",
     "start_time": "2022-10-22T21:28:29.389256Z"
    }
   },
   "outputs": [
    {
     "data": {
      "text/plain": [
       "Date                         0.0\n",
       "Rented Bike Count            0.0\n",
       "Hour                         0.0\n",
       "Temperature(°C)              0.0\n",
       "Humidity(%)                  0.0\n",
       "Wind speed (m/s)             0.0\n",
       "Visibility (10m)             0.0\n",
       "Dew point temperature(°C)    0.0\n",
       "Solar Radiation (MJ/m2)      0.0\n",
       "Rainfall(mm)                 0.0\n",
       "Snowfall (cm)                0.0\n",
       "Seasons                      0.0\n",
       "Holiday                      0.0\n",
       "Functioning Day              0.0\n",
       "dtype: float64"
      ]
     },
     "execution_count": 30,
     "metadata": {},
     "output_type": "execute_result"
    }
   ],
   "source": [
    "df.isna().mean()*100"
   ]
  },
  {
   "cell_type": "markdown",
   "id": "a7f914ec",
   "metadata": {},
   "source": [
    "## <font color = 'pickle'>**Identify numerical, categorical and discrete variables**"
   ]
  },
  {
   "cell_type": "code",
   "execution_count": 31,
   "id": "fda1f5a1",
   "metadata": {
    "ExecuteTime": {
     "end_time": "2022-10-22T21:29:07.030465Z",
     "start_time": "2022-10-22T21:29:07.010596Z"
    }
   },
   "outputs": [],
   "source": [
    "# Create a list of categorical variables\n",
    "# Since the dtype of categorical variable is Object we can compare the values with 'O' \n",
    "categorical = [var for var in df.columns if df[var].dtype == 'O']\n",
    "\n",
    "# Create a list of discrete variables\n",
    "# we do not want to consider Exited as this is target variable\n",
    "discrete = [\n",
    "    var for var in df.columns if df[var].dtype != 'O'\n",
    "    and len(df[var].unique()) < 20 and var not in ['Exited']\n",
    "]\n",
    "\n",
    "# Create a list of continuous Variables\n",
    "# We don't wan't to consider CustomerId here\n",
    "# we do not want to consider Exited as this is target variable\n",
    "continuous = [\n",
    "    var for var in df.columns if df[var].dtype != 'O'\n",
    "    if var not in discrete and var not in ['CustomerId'] and var not in ['Exited']\n",
    "]"
   ]
  },
  {
   "cell_type": "code",
   "execution_count": 32,
   "id": "657edc8b",
   "metadata": {
    "ExecuteTime": {
     "end_time": "2022-10-22T21:29:07.466386Z",
     "start_time": "2022-10-22T21:29:07.449433Z"
    }
   },
   "outputs": [
    {
     "data": {
      "text/plain": [
       "['Rented Bike Count',\n",
       " 'Hour',\n",
       " 'Temperature(°C)',\n",
       " 'Humidity(%)',\n",
       " 'Wind speed (m/s)',\n",
       " 'Visibility (10m)',\n",
       " 'Dew point temperature(°C)',\n",
       " 'Solar Radiation (MJ/m2)',\n",
       " 'Rainfall(mm)',\n",
       " 'Snowfall (cm)']"
      ]
     },
     "execution_count": 32,
     "metadata": {},
     "output_type": "execute_result"
    }
   ],
   "source": [
    "# check continous Variables\n",
    "continuous"
   ]
  },
  {
   "cell_type": "code",
   "execution_count": 33,
   "id": "75920394",
   "metadata": {
    "ExecuteTime": {
     "end_time": "2022-10-22T21:29:07.868184Z",
     "start_time": "2022-10-22T21:29:07.853223Z"
    }
   },
   "outputs": [
    {
     "data": {
      "text/plain": [
       "['Date', 'Seasons', 'Holiday', 'Functioning Day']"
      ]
     },
     "execution_count": 33,
     "metadata": {},
     "output_type": "execute_result"
    }
   ],
   "source": [
    "# check categorical variables\n",
    "categorical"
   ]
  },
  {
   "cell_type": "code",
   "execution_count": 34,
   "id": "93870a08",
   "metadata": {
    "ExecuteTime": {
     "end_time": "2022-10-22T21:29:08.333984Z",
     "start_time": "2022-10-22T21:29:08.320021Z"
    }
   },
   "outputs": [
    {
     "data": {
      "text/plain": [
       "[]"
      ]
     },
     "execution_count": 34,
     "metadata": {},
     "output_type": "execute_result"
    }
   ],
   "source": [
    "# check discrete variables\n",
    "discrete"
   ]
  },
  {
   "cell_type": "markdown",
   "id": "25ee302d",
   "metadata": {},
   "source": [
    "### <font color = 'pickle'>**Check unique values for variables**"
   ]
  },
  {
   "cell_type": "code",
   "execution_count": null,
   "id": "98d2ac18",
   "metadata": {},
   "outputs": [],
   "source": []
  }
 ],
 "metadata": {
  "kernelspec": {
   "display_name": "Python 3",
   "language": "python",
   "name": "python3"
  },
  "language_info": {
   "codemirror_mode": {
    "name": "ipython",
    "version": 3
   },
   "file_extension": ".py",
   "mimetype": "text/x-python",
   "name": "python",
   "nbconvert_exporter": "python",
   "pygments_lexer": "ipython3",
   "version": "3.8.8"
  },
  "varInspector": {
   "cols": {
    "lenName": 16,
    "lenType": 16,
    "lenVar": 40
   },
   "kernels_config": {
    "python": {
     "delete_cmd_postfix": "",
     "delete_cmd_prefix": "del ",
     "library": "var_list.py",
     "varRefreshCmd": "print(var_dic_list())"
    },
    "r": {
     "delete_cmd_postfix": ") ",
     "delete_cmd_prefix": "rm(",
     "library": "var_list.r",
     "varRefreshCmd": "cat(var_dic_list()) "
    }
   },
   "types_to_exclude": [
    "module",
    "function",
    "builtin_function_or_method",
    "instance",
    "_Feature"
   ],
   "window_display": false
  }
 },
 "nbformat": 4,
 "nbformat_minor": 5
}
